{
  "nbformat": 4,
  "nbformat_minor": 0,
  "metadata": {
    "colab": {
      "name": "section1.ipynb",
      "provenance": [],
      "collapsed_sections": [],
      "authorship_tag": "ABX9TyNXg0YEzO/1mINucXfzSGfW",
      "include_colab_link": true
    },
    "kernelspec": {
      "name": "python3",
      "display_name": "Python 3"
    },
    "language_info": {
      "name": "python"
    },
    "accelerator": "GPU"
  },
  "cells": [
    {
      "cell_type": "markdown",
      "metadata": {
        "id": "view-in-github",
        "colab_type": "text"
      },
      "source": [
        "<a href=\"https://colab.research.google.com/github/Negelon/nlp-100/blob/main/section1.ipynb\" target=\"_parent\"><img src=\"https://colab.research.google.com/assets/colab-badge.svg\" alt=\"Open In Colab\"/></a>"
      ]
    },
    {
      "cell_type": "markdown",
      "metadata": {
        "id": "ZoUhkDrzJA59"
      },
      "source": [
        "# 第1章 : 準備運動"
      ]
    },
    {
      "cell_type": "markdown",
      "metadata": {
        "id": "ok1p08kZJM-P"
      },
      "source": [
        "## 00. 文字列の逆順\n",
        "\n",
        "文字列”stressed”の文字を逆に（末尾から先頭に向かって）並べた文字列を得よ."
      ]
    },
    {
      "cell_type": "code",
      "metadata": {
        "colab": {
          "base_uri": "https://localhost:8080/"
        },
        "id": "m3xBDTJLI_N2",
        "outputId": "9c1b291c-53ef-4bea-84e8-168c6587691e"
      },
      "source": [
        "word = 'stressed'\n",
        "\n",
        "# スライスの step に負数を与えると後ろから進んでいく\n",
        "reverse_word = word[::-1]\n",
        "\n",
        "print(reverse_word)"
      ],
      "execution_count": 4,
      "outputs": [
        {
          "output_type": "stream",
          "text": [
            "desserts\n"
          ],
          "name": "stdout"
        }
      ]
    },
    {
      "cell_type": "markdown",
      "metadata": {
        "id": "Pcf-Txv0J-wg"
      },
      "source": [
        "## 01. パタトカクシーー\n",
        "\n",
        "「パタトクカシーー」という文字列の1,3,5,7文字目を取り出して連結した文字列を得よ．"
      ]
    },
    {
      "cell_type": "code",
      "metadata": {
        "colab": {
          "base_uri": "https://localhost:8080/"
        },
        "id": "TDkBuLb3Jsdr",
        "outputId": "913e4b92-c65a-4824-ee26-0bbaaa529050"
      },
      "source": [
        "word = 'パタトクカシー'\n",
        "\n",
        "# スライスの step に2を指定することで頭から1つ飛ばしで進んでいく\n",
        "extracted_word = word[::2]\n",
        "\n",
        "print(extracted_word)"
      ],
      "execution_count": 6,
      "outputs": [
        {
          "output_type": "stream",
          "text": [
            "パトカー\n"
          ],
          "name": "stdout"
        }
      ]
    },
    {
      "cell_type": "markdown",
      "metadata": {
        "id": "T5rAfG1WKlYk"
      },
      "source": [
        "## 02. 「パトカー」＋「タクシー」＝「パタトクカシーー」\n",
        "\n",
        "「パトカー」＋「タクシー」の文字を先頭から交互に連結して文字列「パタトクカシーー」を得よ．"
      ]
    },
    {
      "cell_type": "code",
      "metadata": {
        "colab": {
          "base_uri": "https://localhost:8080/"
        },
        "id": "6yP90U64KSw6",
        "outputId": "d4ce58f4-40da-4e20-a4af-bdca3316810c"
      },
      "source": [
        "word1 = 'パトカー'\n",
        "word2 = 'タクシー'\n",
        "\n",
        "# 結果格納用変数\n",
        "joined_word = ''\n",
        "\n",
        "# word1, word2 の1文字ずつ同時にループ\n",
        "for char1, char2 in zip(word1, word2) :\n",
        "  # 結合していく\n",
        "  joined_word = joined_word + char1 + char2\n",
        "\n",
        "print(joined_word)"
      ],
      "execution_count": 7,
      "outputs": [
        {
          "output_type": "stream",
          "text": [
            "パタトクカシーー\n"
          ],
          "name": "stdout"
        }
      ]
    },
    {
      "cell_type": "markdown",
      "metadata": {
        "id": "emU52_Q1Qjf0"
      },
      "source": [
        "## 03. 円周率\n",
        "\n",
        "“Now I need a drink, alcoholic of course, after the heavy lectures involving quantum mechanics.”という文を単語に分解し，各単語の（アルファベットの）文字数を先頭から出現順に並べたリストを作成せよ．"
      ]
    },
    {
      "cell_type": "code",
      "metadata": {
        "colab": {
          "base_uri": "https://localhost:8080/"
        },
        "id": "7zaEqCVlLNn9",
        "outputId": "60c68481-10bd-476f-eb63-6e76c6fd38d5"
      },
      "source": [
        "sentence = 'Now I need a drink, alcoholic of course, after the heavy lectures involving quantum mechanics.'\n",
        "\n",
        "# 結果格納用リスト\n",
        "number_list = []\n",
        "\n",
        "# 空白で区切ってリスト化\n",
        "word_list = sentence.split()\n",
        "\n",
        "# 1単語ずつループ\n",
        "for word in word_list :\n",
        "  # 「,」「.」は空文字へ変換することで削除 (translate()は複数文字の置換が可能)\n",
        "  word = word.translate(str.maketrans({',': '', '.': ''}))\n",
        "  # 単語の文字数を計算し結果格納用リストへ格納\n",
        "  number = len(word)\n",
        "  number_list.append(number)\n",
        "\n",
        "print(number_list)"
      ],
      "execution_count": 19,
      "outputs": [
        {
          "output_type": "stream",
          "text": [
            "[3, 1, 4, 1, 5, 9, 2, 6, 5, 3, 5, 8, 9, 7, 9]\n"
          ],
          "name": "stdout"
        }
      ]
    },
    {
      "cell_type": "markdown",
      "metadata": {
        "id": "Q-UJR7n1URYG"
      },
      "source": [
        "## 04. 元素記号\n",
        "\n",
        "“Hi He Lied Because Boron Could Not Oxidize Fluorine. New Nations Might Also Sign Peace Security Clause. Arthur King Can.”という文を単語に分解し，1, 5, 6, 7, 8, 9, 15, 16, 19番目の単語は先頭の1文字，それ以外の単語は先頭の2文字を取り出し，取り出した文字列から単語の位置（先頭から何番目の単語か）への連想配列（辞書型もしくはマップ型）を作成せよ．"
      ]
    },
    {
      "cell_type": "code",
      "metadata": {
        "colab": {
          "base_uri": "https://localhost:8080/"
        },
        "id": "soNuSfFrQwEZ",
        "outputId": "37c2cc42-ddbc-4f4f-b0ed-68bb92fee9ac"
      },
      "source": [
        "sentence = 'Hi He Lied Because Boron Could Not Oxidize Fluorine. New Nations Might Also Sign Peace Security Clause. Arthur King Can.'\n",
        "\n",
        "word_dict = {}\n",
        "\n",
        "# 空白で区切ってリスト化\n",
        "word_list = sentence.split()\n",
        "# enumertate() を使って単語とインデックスを共に取得してループ\n",
        "for i, word in enumerate(word_list) :\n",
        "  if i+1 in [1, 5, 6, 7, 8, 9, 15, 16, 19] :\n",
        "    word_dict[word[:1]] = i+1\n",
        "  else :\n",
        "    word_dict[word[:2]] = i+1\n",
        "\n",
        "print(word_dict)"
      ],
      "execution_count": 26,
      "outputs": [
        {
          "output_type": "stream",
          "text": [
            "{'H': 1, 'He': 2, 'Li': 3, 'Be': 4, 'B': 5, 'C': 6, 'N': 7, 'O': 8, 'F': 9, 'Ne': 10, 'Na': 11, 'Mi': 12, 'Al': 13, 'Si': 14, 'P': 15, 'S': 16, 'Cl': 17, 'Ar': 18, 'K': 19, 'Ca': 20}\n"
          ],
          "name": "stdout"
        }
      ]
    },
    {
      "cell_type": "markdown",
      "metadata": {
        "id": "xBTndnmaWgNP"
      },
      "source": [
        "## 05. n-gram\n",
        "\n",
        "与えられたシーケンス（文字列やリストなど）からn-gramを作る関数を作成せよ．この関数を用い，”I am an NLPer”という文から単語bi-gram，文字bi-gramを得よ．"
      ]
    },
    {
      "cell_type": "code",
      "metadata": {
        "id": "kDNdr1EnWfIf"
      },
      "source": [
        "def get_word_ngram(sentence, n) :\n",
        "  \"\"\"\n",
        "  入力された文字列の単語 n-gram を返却する\n",
        "  \n",
        "  Parameters\n",
        "  ----------\n",
        "  sentence : str\n",
        "      入力文字列\n",
        "  n : int\n",
        "      n-gram で指定する n\n",
        "  \n",
        "  Returns\n",
        "  ----------\n",
        "  n_gran : list[list[str]]\n",
        "      単語 n-gram のリストを返却する\n",
        "  \"\"\"\n",
        "  # 入力文字列を単語リスト化\n",
        "  word_list = sentence.split(' ')\n",
        "  # n 個の連続する単語のリストを格納するためのリスト\n",
        "  n_gram = [] \n",
        "  # 連続する n 個の単語の1つめのインデックスについてループ\n",
        "  for i in range(len(word_list)-n+1) :\n",
        "    # 起点から連続する n 個の単語を取得\n",
        "    pair = word_list[i:i+n]\n",
        "    # 結果格納用リストへ格納\n",
        "    n_gram.append(pair)\n",
        "  \n",
        "  return n_gram\n",
        "\n",
        "\n",
        "def get_char_ngram(sentence, n) :\n",
        "  \"\"\"\n",
        "  入力された文字列の文字 n-gram を返却する\n",
        "  \n",
        "  Parameters\n",
        "  ----------\n",
        "  sentence : str\n",
        "      入力文字列\n",
        "  n : int\n",
        "      n-gram で指定する n\n",
        "  \n",
        "  Returns\n",
        "  ----------\n",
        "  n_gran : list[str]\n",
        "      文字 n-gram のリストを返却する\n",
        "  \"\"\"\n",
        "  # n 個の連続する文字を格納するためのリスト\n",
        "  n_gram = []\n",
        "  # 連続する n 個の文字の1つめのインデックスについてループ\n",
        "  for i in range(len(sentence)-n+1) :\n",
        "    # 起点となる文字から n 個の文字を取得\n",
        "    mass = sentence[i:i+n]\n",
        "    # 結果格納用リストへ格納\n",
        "    n_gram.append(mass)\n",
        "  \n",
        "  return n_gram"
      ],
      "execution_count": 59,
      "outputs": []
    },
    {
      "cell_type": "code",
      "metadata": {
        "colab": {
          "base_uri": "https://localhost:8080/"
        },
        "id": "Gavlg9dMaImg",
        "outputId": "34ea3dbe-5fa5-4348-cb3c-3852d4d7466a"
      },
      "source": [
        "sentence = 'I am an NLPer'\n",
        "\n",
        "word_bigram = get_word_ngram(sentence, 2)\n",
        "char_bigram = get_char_ngram(sentence, 2)\n",
        "\n",
        "print(f'単語 bi-gram : {word_bigram}')\n",
        "print(f'文字 bi-gram : {char_bigram}')"
      ],
      "execution_count": 60,
      "outputs": [
        {
          "output_type": "stream",
          "text": [
            "単語 bi-gram : [['I', 'am'], ['am', 'an'], ['an', 'NLPer']]\n",
            "文字 bi-gram : ['I ', ' a', 'am', 'm ', ' a', 'an', 'n ', ' N', 'NL', 'LP', 'Pe', 'er']\n"
          ],
          "name": "stdout"
        }
      ]
    },
    {
      "cell_type": "markdown",
      "metadata": {
        "id": "UplqhBGCXTLq"
      },
      "source": [
        "## 06. 集合\n",
        "\n",
        "“paraparaparadise”と”paragraph”に含まれる文字bi-gramの集合を，それぞれ, XとYとして求め，XとYの和集合，積集合，差集合を求めよ．さらに，’se’というbi-gramがXおよびYに含まれるかどうかを調べよ．"
      ]
    },
    {
      "cell_type": "code",
      "metadata": {
        "colab": {
          "base_uri": "https://localhost:8080/"
        },
        "id": "wSKduN1vXScK",
        "outputId": "12e81d73-3d74-4991-950a-6085a30100c4"
      },
      "source": [
        "# 05 で作成した関数を用いて 文字 bi-gram を取得\n",
        "X = set(get_char_ngram('paraparaparadise', 2))\n",
        "Y = set(get_char_ngram('paragraph', 2))\n",
        "\n",
        "# | によって和集合を取得\n",
        "union_X_Y = X | Y\n",
        "# & によって積集合を取得\n",
        "product_X_Y = X & Y\n",
        "# - によって差集合を取得\n",
        "diff_X_Y = X - Y\n",
        "\n",
        "print(f'和集合 : {union_X_Y}')\n",
        "print(f'積集合 : {product_X_Y}')\n",
        "print(f'差集合 : {diff_X_Y}')"
      ],
      "execution_count": 61,
      "outputs": [
        {
          "output_type": "stream",
          "text": [
            "和集合 : {'ar', 'ra', 'ph', 'pa', 'ag', 'di', 'ad', 'is', 'gr', 'ap', 'se'}\n",
            "積集合 : {'ar', 'pa', 'ra', 'ap'}\n",
            "差集合 : {'se', 'di', 'is', 'ad'}\n"
          ],
          "name": "stdout"
        }
      ]
    },
    {
      "cell_type": "markdown",
      "metadata": {
        "id": "_YfwdWt4XeYr"
      },
      "source": [
        "## 07. テンプレートによる文生成\n",
        "\n",
        "引数x, y, zを受け取り「x時のyはz」という文字列を返す関数を実装せよ．さらに，x=12, y=”気温”, z=22.4として，実行結果を確認せよ．"
      ]
    },
    {
      "cell_type": "code",
      "metadata": {
        "colab": {
          "base_uri": "https://localhost:8080/"
        },
        "id": "wjP7gRqZXkLD",
        "outputId": "6b8a3d8d-6cc4-4f64-898f-4dfe39f68b36"
      },
      "source": [
        "def template_sentence(x, y, z) :\n",
        "  \"\"\"\n",
        "  引数 x, y, z を元に 「x時のyはz」という文字列を返す\n",
        "\n",
        "  Parameters\n",
        "  ----------\n",
        "  x, y, z : str\n",
        "    テンプレートに埋め込む文字列\n",
        "  \n",
        "  Returns\n",
        "  ----------\n",
        "  str\n",
        "    「x時のyはz」という文字列\n",
        "  \"\"\"\n",
        "  return f'{x}時の{y}は{z}'\n",
        "\n",
        "result_sentence = template_sentence(12, '気温', 22.4)\n",
        "\n",
        "print(result_sentence)"
      ],
      "execution_count": 25,
      "outputs": [
        {
          "output_type": "stream",
          "text": [
            "12時の気温は22.4\n"
          ],
          "name": "stdout"
        }
      ]
    },
    {
      "cell_type": "markdown",
      "metadata": {
        "id": "qMgxJXNyi3K0"
      },
      "source": [
        "## 08. 暗号文\n",
        "\n",
        "与えられた文字列の各文字を，以下の仕様で変換する関数cipherを実装せよ．\n",
        "\n",
        "- 英小文字ならば(219 - 文字コード)の文字に置換\n",
        "- その他の文字はそのまま出力\n",
        "\n",
        "この関数を用い，英語のメッセージを暗号化・復号化せよ．"
      ]
    },
    {
      "cell_type": "code",
      "metadata": {
        "id": "qgkoJVaBX0v4"
      },
      "source": [
        "def cipher(sentence) :\n",
        "  \"\"\"\n",
        "  入力文字列に対し英小文字は(219 - 文字コード)の文字に置換し返却する\n",
        "\n",
        "  Parameters\n",
        "  ----------\n",
        "  sentence : str\n",
        "    入力文字列\n",
        "  \n",
        "  Returns\n",
        "  ----------\n",
        "  result : str\n",
        "    暗号化後の文字列\n",
        "  \"\"\"\n",
        "  # 返却用文字列\n",
        "  result = ''\n",
        "  \n",
        "  # 入力文字列を1文字ずつループ\n",
        "  for i in range(len(sentence)):\n",
        "    # 英小文字のとき\n",
        "    if sentence[i].islower():\n",
        "      # 暗号化した文字を返却用文字列に追加\n",
        "      result += chr(219 - ord(sentence[i]))\n",
        "    else:\n",
        "      # そのままを追加\n",
        "      result += sentence[i]\n",
        "\n",
        "  return result"
      ],
      "execution_count": 27,
      "outputs": []
    },
    {
      "cell_type": "code",
      "metadata": {
        "colab": {
          "base_uri": "https://localhost:8080/"
        },
        "id": "fY3JXUNOeguX",
        "outputId": "3e20cf53-ed2c-4b4b-aae0-6b99f9d83d49"
      },
      "source": [
        "input_sentence = 'Riemann zeta function is one of the most important function in analytic number theory'\n",
        "print(f'入力文 : {input_sentence}')\n",
        "print(f'暗号化 : {cipher(input_sentence)}')"
      ],
      "execution_count": 28,
      "outputs": [
        {
          "output_type": "stream",
          "text": [
            "入力文 : Riemann zeta function is one of the most important function in analytic number theory\n",
            "暗号化 : Rrvnzmm avgz ufmxgrlm rh lmv lu gsv nlhg rnkligzmg ufmxgrlm rm zmzobgrx mfnyvi gsvlib\n"
          ],
          "name": "stdout"
        }
      ]
    },
    {
      "cell_type": "markdown",
      "metadata": {
        "id": "gzrqTTRo363b"
      },
      "source": [
        "## 09. Typoglycemia\n",
        "\n",
        "スペースで区切られた単語列に対して，各単語の先頭と末尾の文字は残し，それ以外の文字の順序をランダムに並び替えるプログラムを作成せよ．ただし，長さが４以下の単語は並び替えないこととする．適当な英語の文（例えば”I couldn’t believe that I could actually understand what I was reading : the phenomenal power of the human mind .”）を与え，その実行結果を確認せよ．"
      ]
    },
    {
      "cell_type": "code",
      "metadata": {
        "id": "WBKV6Vwrel_1"
      },
      "source": [
        "import random\n",
        "\n",
        "def convert_order_random(sentence) : \n",
        "  \"\"\"\n",
        "  入力された文字列に対して, 各単語の先頭と末尾の文字は残し，それ以外の文字の順序をランダムに並び替えて返却する\n",
        "\n",
        "  Parameters\n",
        "  ----------\n",
        "  sentence : str\n",
        "    入力文字列\n",
        "  \n",
        "  Returns\n",
        "  ----------\n",
        "  result : str\n",
        "    置換後の文字列\n",
        "  \"\"\"\n",
        "  # 入力文字列を単語リスト化\n",
        "  word_list = sentence.split(' ')\n",
        "  # 文字列に変換するための一時結果格納用リスト\n",
        "  result_list = []\n",
        "\n",
        "  # 単語ごとにループ\n",
        "  for i in range(len(word_list)) :\n",
        "    # 単語\n",
        "    word = word_list[i]\n",
        "    # 単語長\n",
        "    length = len(word)\n",
        "    if len(word) <= 4 :\n",
        "      result_list.append(word)\n",
        "    else :\n",
        "      # 最初と最後の文字以外をランダムに並び替える\n",
        "      random_str = ''.join(random.sample(word[1:length-1], length-2))\n",
        "      result_list.append(word[0] + random_str + word[length-1])\n",
        "    \n",
        "    # 文字列へ変換\n",
        "    result = ''.join(result_list)\n",
        "\n",
        "  return result\n",
        "\n"
      ],
      "execution_count": 36,
      "outputs": []
    },
    {
      "cell_type": "code",
      "metadata": {
        "colab": {
          "base_uri": "https://localhost:8080/"
        },
        "id": "p905L4xozCJk",
        "outputId": "63c5b0a0-6a8d-4239-bd1a-cc330def5976"
      },
      "source": [
        "input_sentence = 'I couldn’t believe that I could actually understand what I was reading : the phenomenal power of the human mind .'\n",
        "\n",
        "print(convert_order_random(input_sentence))"
      ],
      "execution_count": 37,
      "outputs": [
        {
          "output_type": "stream",
          "text": [
            "Icold’nutbevlieethatIcuoldalulactyunsnrdeatdwhatIwasraeding:thepeoennmahlpweorofthehumanmind.\n"
          ],
          "name": "stdout"
        }
      ]
    },
    {
      "cell_type": "code",
      "metadata": {
        "id": "j9BEchAS6EPS"
      },
      "source": [
        ""
      ],
      "execution_count": null,
      "outputs": []
    }
  ]
}